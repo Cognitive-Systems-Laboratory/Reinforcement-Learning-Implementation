{
 "cells": [
  {
   "cell_type": "markdown",
   "metadata": {},
   "source": [
    "## OpenAI Gym Introduction \n",
    "\n",
    "This is brief introctuion on Gym's API with `'CartPolev1'`\n",
    "\n",
    "for more detailed explanation, please use [Open AI GYM CartPole Wiki](\"https://github.com/openai/gym/wiki\")"
   ]
  },
  {
   "cell_type": "code",
   "execution_count": 24,
   "metadata": {},
   "outputs": [],
   "source": [
    "import gym\n",
    "\n",
    "\n",
    "#Create gym CartPolev1 environment\n",
    "env = gym.make(\"CartPole-v1\")\n",
    "obs=env.reset() #Returns the observation"
   ]
  },
  {
   "cell_type": "markdown",
   "metadata": {},
   "source": [
    "<div align=\"center\"> CartPole outputs 4 different observations </div>\n",
    "\n",
    "\n",
    "| Num | Observation          | Min   | Max  |\n",
    "|-----|----------------------|-------|------|\n",
    "| 0   | Cart Position        | -2.4  | 2.4  |\n",
    "| 1   | Cart Velocity        | -Inf  | Inf  |\n",
    "| 2   | Pole Angle           | -41.8 | 41.8 |\n",
    "| 3   | Pole Velocity at Tip | -Inf  | Inf  |"
   ]
  },
  {
   "cell_type": "code",
   "execution_count": 19,
   "metadata": {},
   "outputs": [
    {
     "name": "stdout",
     "output_type": "stream",
     "text": [
      "(4,)\n",
      "[ 0.04721962  0.04890124 -0.01818287 -0.01783415]\n"
     ]
    }
   ],
   "source": [
    "observation_space = env.observation_space.shape\n",
    "\n",
    "\n",
    "print(observation_space) #Print Possible Action\n",
    "print(obs) #Print Observation"
   ]
  },
  {
   "cell_type": "code",
   "execution_count": 51,
   "metadata": {},
   "outputs": [
    {
     "data": {
      "text/plain": [
       "Discrete(2)"
      ]
     },
     "execution_count": 51,
     "metadata": {},
     "output_type": "execute_result"
    }
   ],
   "source": [
    "env.action_space #Print Possible Action"
   ]
  },
  {
   "cell_type": "markdown",
   "metadata": {},
   "source": [
    "# Plotting the Obsesrvation\n",
    "\n",
    "`env.render()` opens a current screen #Must be Closed with `env.close()`, if on Jupyter to prevent Stopping\"\n",
    "\n",
    "`env.render(mode='rgb_array')`can output the screen as numpy"
   ]
  },
  {
   "cell_type": "code",
   "execution_count": 25,
   "metadata": {},
   "outputs": [
    {
     "data": {
      "text/plain": [
       "True"
      ]
     },
     "execution_count": 25,
     "metadata": {},
     "output_type": "execute_result"
    }
   ],
   "source": [
    "env.render()"
   ]
  },
  {
   "cell_type": "code",
   "execution_count": 26,
   "metadata": {},
   "outputs": [],
   "source": [
    "env.close()"
   ]
  },
  {
   "cell_type": "code",
   "execution_count": 28,
   "metadata": {},
   "outputs": [
    {
     "data": {
      "text/plain": [
       "<matplotlib.image.AxesImage at 0x22631111ec8>"
      ]
     },
     "execution_count": 28,
     "metadata": {},
     "output_type": "execute_result"
    },
    {
     "data": {
      "image/png": "[encoded data removed]",
      "text/plain": [
       "<Figure size 432x288 with 1 Axes>"
      ]
     },
     "metadata": {
      "needs_background": "light"
     },
     "output_type": "display_data"
    }
   ],
   "source": [
    "import matplotlib.pyplot as plt\n",
    "image=env.render(mode='rgb_array')\n",
    "env.close()\n",
    "plt.imshow(image)"
   ]
  },
  {
   "cell_type": "markdown",
   "metadata": {},
   "source": [
    "# Choosing an Action\n",
    "\n",
    "`env.step('action')`, has one input 'action' and outputs 'observation','reward', 'done (bool)', 'info' (useful for debugging), We can use `env.render()` to check the changes\n"
   ]
  },
  {
   "cell_type": "code",
   "execution_count": null,
   "metadata": {},
   "outputs": [],
   "source": [
    "# Action = {0,1 } pushes to left/right"
   ]
  },
  {
   "cell_type": "code",
   "execution_count": 45,
   "metadata": {},
   "outputs": [],
   "source": [
    "env.reset()\n",
    "start=env.render(mode='rgb_array')\n",
    "for i in range(10):\n",
    "    env.step(1)\n",
    "end=env.render(mode='rgb_array')\n",
    "\n",
    "env.close()"
   ]
  },
  {
   "cell_type": "code",
   "execution_count": 48,
   "metadata": {},
   "outputs": [
    {
     "data": {
      "text/plain": [
       "([], <a list of 0 Text yticklabel objects>)"
      ]
     },
     "execution_count": 48,
     "metadata": {},
     "output_type": "execute_result"
    },
    {
     "data": {
      "image/png": "[encoded data removed]",
      "text/plain": [
       "<Figure size 1152x1152 with 2 Axes>"
      ]
     },
     "metadata": {},
     "output_type": "display_data"
    }
   ],
   "source": [
    "plt.figure(figsize=(16, 16))\n",
    "plt.subplot(1, 2, 1)\n",
    "plt.xticks([])\n",
    "plt.yticks([])\n",
    "plt.imshow(start)\n",
    "plt.subplot(1,2,2)\n",
    "plt.tight_layout(0)\n",
    "plt.imshow(end)\n",
    "plt.xticks([])\n",
    "plt.yticks([])"
   ]
  },
  {
   "cell_type": "code",
   "execution_count": 1,
   "metadata": {},
   "outputs": [
    {
     "ename": "NameError",
     "evalue": "name 'asdas' is not defined",
     "output_type": "error",
     "traceback": [
      "\u001b[1;31m---------------------------------------------------------------------------\u001b[0m",
      "\u001b[1;31mNameError\u001b[0m                                 Traceback (most recent call last)",
      "\u001b[1;32m<ipython-input-1-91fe37ce9e69>\u001b[0m in \u001b[0;36m<module>\u001b[1;34m\u001b[0m\n\u001b[1;32m----> 1\u001b[1;33m \u001b[0masdas\u001b[0m\u001b[1;33m\u001b[0m\u001b[1;33m\u001b[0m\u001b[0m\n\u001b[0m",
      "\u001b[1;31mNameError\u001b[0m: name 'asdas' is not defined"
     ]
    }
   ],
   "source": [
    "\n",
    "\n",
    "asdas"
   ]
  },
  {
   "cell_type": "code",
   "execution_count": 2,
   "metadata": {},
   "outputs": [
    {
     "name": "stdout",
     "output_type": "stream",
     "text": [
      "\n",
      "\u001b[41mS\u001b[0mFFF\n",
      "FHFH\n",
      "FFFH\n",
      "HFFG\n"
     ]
    }
   ],
   "source": [
    "import gym # loading the Gym library\n",
    " \n",
    "env = gym.make(\"FrozenLake-v0\")\n",
    "env.reset()                    \n",
    "env.render()"
   ]
  },
  {
   "cell_type": "code",
   "execution_count": 163,
   "metadata": {},
   "outputs": [],
   "source": [
    "from itertools import chain \n",
    "import matplotlib.pyplot as plt\n",
    "from matplotlib.backends.backend_agg import FigureCanvasAgg as FigureCanvas\n",
    "from matplotlib.figure import Figure\n",
    "import numpy as np\n",
    "def render(env):\n",
    "    def index_fun(a,b,height):\n",
    "        return a*height+b\n",
    "    def state_to_color(argument):\n",
    "        func=switcher.get(argument,\"nothing\")\n",
    "        return func()\n",
    "    def frozen():\n",
    "        return 'c'\n",
    "    def hole():\n",
    "        return 'k'\n",
    "    def start():\n",
    "        return \"y\"\n",
    "    def goal():\n",
    "        return 'g'\n",
    "    switcher = {\n",
    "        'F': frozen,\n",
    "        'S': start,\n",
    "        'H': hole,\n",
    "        'G': goal\n",
    "    }\n",
    "    desc = env.desc.tolist()\n",
    "    desc = [[c.decode('utf-8') for c in line] for line in desc]\n",
    "    desc_flatten = list(chain.from_iterable(desc)) \n",
    "    height=len(desc)\n",
    "    width=len(desc[0])\n",
    "    fig=plt.figure(figsize=(4, 4))\n",
    "\n",
    "    ax = [plt.subplot(height,width,i+1) for i in range(height*width)]\n",
    "    plt.tick_params(labelcolor=\"none\", bottom=False, left=False)\n",
    "    plt.setp(ax, xlim=(-1,1), ylim=(-1,1))\n",
    "\n",
    "\n",
    "\n",
    "    def state_to_color(argument):\n",
    "        func=switcher.get(argument,\"nothing\")\n",
    "        return func()\n",
    "    for index,(axes,state) in enumerate(zip(ax,desc_flatten)):\n",
    "\n",
    "        axes.set_facecolor(state_to_color(state))\n",
    "        if index==env.s:\n",
    "            axes.set_facecolor((1,0,0))\n",
    "\n",
    "        axes.get_yaxis().set_visible(False)\n",
    "        axes.get_xaxis().set_visible(False)\n",
    "\n",
    "\n",
    "    plt.subplots_adjust(wspace=0, hspace=0)\n",
    "\n",
    "    fig.canvas.draw()\n",
    "    img = np.frombuffer(fig.canvas.tostring_rgb(), dtype=np.uint8)\n",
    "    img = img.reshape(fig.canvas.get_width_height()[::-1] + (3,))\n",
    "#    plt.close()\n",
    "    return img"
   ]
  }
 ],
 "metadata": {
  "kernelspec": {
   "display_name": "Python 3",
   "language": "python",
   "name": "python3"
  },
  "language_info": {
   "codemirror_mode": {
    "name": "ipython",
    "version": 3
   },
   "file_extension": ".py",
   "mimetype": "text/x-python",
   "name": "python",
   "nbconvert_exporter": "python",
   "pygments_lexer": "ipython3",
   "version": "3.7.6"
  }
 },
 "nbformat": 4,
 "nbformat_minor": 4
}
